{
 "cells": [
  {
   "cell_type": "code",
   "execution_count": 9,
   "metadata": {},
   "outputs": [],
   "source": [
    "from braket.circuits import Circuit, Observable\n",
    "from braket.devices import LocalSimulator\n",
    "import json\n",
    "import numpy as np\n",
    "import matplotlib.pyplot as plt\n",
    "# magic word for producing visualizations in notebook\n",
    "%matplotlib inline\n",
    "\n",
    "device = LocalSimulator()"
   ]
  },
  {
   "cell_type": "code",
   "execution_count": 15,
   "metadata": {},
   "outputs": [
    {
     "name": "stdout",
     "output_type": "stream",
     "text": [
      "T  : |0|\n",
      "        \n",
      "q0 : -X-\n",
      "        \n",
      "q1 : -I-\n",
      "        \n",
      "q2 : -H-\n",
      "\n",
      "T  : |0|\n",
      "\n",
      "Additional result types: StateVector\n",
      "State Vector\n",
      "|000⟩ 0j\n",
      "|001⟩ 0j\n",
      "|010⟩ 0j\n",
      "|011⟩ 0j\n",
      "|100⟩ (0.707+0j)\n",
      "|101⟩ (0.707+0j)\n",
      "|110⟩ 0j\n",
      "|111⟩ 0j\n"
     ]
    }
   ],
   "source": [
    "qc = Circuit().x(0).i(1).h(2)\n",
    "qubit_count = qc.qubit_count\n",
    "qc.state_vector()\n",
    "print(qc)\n",
    "\n",
    "task = device.run(qc, shots=0)\n",
    "result = task.result()\n",
    "\n",
    "# print(np.round(result.values[0],decimals=3))\n",
    "print(\"State Vector\")\n",
    "output_states=[]\n",
    "output_sv=[]\n",
    "for i in range(2**qubit_count):\n",
    "    b1=bin(i)\n",
    "    bb=str(b1).replace('0b','')\n",
    "    output_states.append(\"|\"+bb.zfill(qubit_count)+\"⟩\")\n",
    "    output_sv.append(np.round(result.values[0][i],decimals=3))\n",
    "\n",
    "\n",
    "for state, sv in zip(output_states, output_sv):\n",
    "    print(state, sv)\n"
   ]
  },
  {
   "cell_type": "code",
   "execution_count": 12,
   "metadata": {},
   "outputs": [
    {
     "name": "stdout",
     "output_type": "stream",
     "text": [
      "T  : |    0    |Result Types|\n",
      "                             \n",
      "q0 : -Ry(0.785)-Probability--\n",
      "                |            \n",
      "q1 : -H---------Probability--\n",
      "\n",
      "T  : |    0    |Result Types|\n",
      "Visualizing Probability of Outputs\n"
     ]
    },
    {
     "data": {
      "image/png": "[encoded data removed]",
      "text/plain": [
       "<Figure size 432x288 with 1 Axes>"
      ]
     },
     "metadata": {
      "needs_background": "light"
     },
     "output_type": "display_data"
    }
   ],
   "source": [
    "qc = Circuit().h(1).ry(0,np.pi/4)\n",
    "\n",
    "qubit_count = qc.qubit_count\n",
    "qc.probability()\n",
    "print(qc)\n",
    "task = device.run(qc, shots=0)\n",
    "result = task.result()\n",
    "\n",
    "print(\"Visualizing Probability of Outputs\")\n",
    "output_states=[]\n",
    "output_prob=[]\n",
    "for i in range(2**qubit_count):\n",
    "    b1=bin(i)\n",
    "    bb=str(b1).replace('0b','')\n",
    "    output_states.append(\"|\"+bb.zfill(qubit_count)+\"⟩\")\n",
    "    output_prob.append(round(result.values[0][i],3))\n",
    "output_states.reverse()\n",
    "output_prob.reverse()\n",
    "\n",
    "# plot \n",
    "plt.barh(output_states, output_prob);\n",
    "plt.xlim([0,1])\n",
    "plt.xlabel('Probability');\n",
    "plt.ylabel('States');"
   ]
  },
  {
   "cell_type": "code",
   "execution_count": 5,
   "metadata": {},
   "outputs": [
    {
     "name": "stdout",
     "output_type": "stream",
     "text": [
      "Counter({'0': 840, '1': 160})\n"
     ]
    }
   ],
   "source": [
    "qc = Circuit().ry(0,np.pi/4)\n",
    "task = device.run(qc, shots=1000)\n",
    "result = task.result()\n",
    "\n",
    "print(result.measurement_counts)"
   ]
  },
  {
   "cell_type": "code",
   "execution_count": 8,
   "metadata": {},
   "outputs": [
    {
     "name": "stdout",
     "output_type": "stream",
     "text": [
      "['|00⟩', '|01⟩', '|10⟩', '|11⟩', '|100⟩', '|101⟩', '|110⟩', '|111⟩']\n"
     ]
    }
   ],
   "source": [
    "output_states=[]\n",
    "for i in range(8):\n",
    "    b1=bin(i)\n",
    "    bb=str(b1).replace('0b','')\n",
    "    output_states.append(\"|\"+bb.zfill(2)+\"⟩\")\n",
    "print(output_states)"
   ]
  },
  {
   "cell_type": "markdown",
   "metadata": {},
   "source": [
    "### End"
   ]
  }
 ],
 "metadata": {
  "kernelspec": {
   "display_name": "jup_oct_kernel",
   "language": "python",
   "name": "jup_oct_kernel"
  },
  "language_info": {
   "codemirror_mode": {
    "name": "ipython",
    "version": 3
   },
   "file_extension": ".py",
   "mimetype": "text/x-python",
   "name": "python",
   "nbconvert_exporter": "python",
   "pygments_lexer": "ipython3",
   "version": "3.8.5"
  }
 },
 "nbformat": 4,
 "nbformat_minor": 4
}
